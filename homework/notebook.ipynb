{
 "cells": [
  {
   "cell_type": "code",
   "execution_count": 1,
   "metadata": {},
   "outputs": [
    {
     "name": "stdout",
     "output_type": "stream",
     "text": [
      "Archivo 'index.html' creado en: C:\\Users\\Felipe\\Documents\\analiticaDescriptiva\\2024-2-LAB-08-matplotlib-dashboard-Elpulpo888\\docs\\index.html\n"
     ]
    }
   ],
   "source": [
    "file_path = r\"C:\\Users\\Felipe\\Documents\\analiticaDescriptiva\\2024-2-LAB-08-matplotlib-dashboard-Elpulpo888\\docs\\index.html\"\n",
    "\n",
    "html_content = \"\"\"<!DOCTYPE html>\n",
    "<html>\n",
    "<body>\n",
    "<h1>Shipping Dashboard Example</h1>\n",
    "<div style=\"width: 45%; float: left\">\n",
    "<img src=\"shipping_per_warehouse.png\" alt=\"Fig 1\"> \n",
    "<img src=\"mode_of_shipment.png\" alt=\"Fig 2\">\n",
    "</div>\n",
    "<div style=\"width: 45%; float: left\">\n",
    "<img src=\"average_customer_rating.png\" alt=\"Fig 3\"> \n",
    "<img src=\"weight_distribution.png\" alt=\"Fig 4\">\n",
    "</div>\n",
    "</body>\n",
    "</html>\n",
    "\"\"\"\n",
    "\n",
    "# Escribe el contenido en el archivo\n",
    "with open(file_path, \"w\", encoding=\"utf-8\") as file:\n",
    "    file.write(html_content)\n",
    "\n",
    "print(f\"Archivo 'index.html' creado en: {file_path}\")\n"
   ]
  }
 ],
 "metadata": {
  "kernelspec": {
   "display_name": ".venv",
   "language": "python",
   "name": "python3"
  },
  "language_info": {
   "codemirror_mode": {
    "name": "ipython",
    "version": 3
   },
   "file_extension": ".py",
   "mimetype": "text/x-python",
   "name": "python",
   "nbconvert_exporter": "python",
   "pygments_lexer": "ipython3",
   "version": "3.10.11"
  }
 },
 "nbformat": 4,
 "nbformat_minor": 2
}
